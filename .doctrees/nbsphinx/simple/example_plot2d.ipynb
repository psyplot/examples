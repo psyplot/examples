{
 "cells": [
  {
   "cell_type": "markdown",
   "metadata": {},
   "source": [
    "# 2D plots\n",
    "Demonstration of the 2D plot capabilities\n",
    "\n",
    "The ``plot2d`` plot method make plots of 2-dimensional scalar data\n",
    "using matplotlibs ``pcolormesh`` or the ``contourf`` functions.\n",
    "\n",
    "Note that this method is extended by the [mapplot](http://psyplot.readthedocs.io/projects/psy-maps/en/latest/examples/example_mapplotters.html) plot method of the [psy-maps](http://psyplot.readthedocs.io/projects/psy-maps/en/latest/index.html) plugin for visualization on the projected globe."
   ]
  },
  {
   "cell_type": "code",
   "execution_count": 1,
   "metadata": {
    "execution": {
     "iopub.execute_input": "2020-11-12T09:29:12.180752Z",
     "iopub.status.busy": "2020-11-12T09:29:12.179990Z",
     "iopub.status.idle": "2020-11-12T09:29:13.194366Z",
     "shell.execute_reply": "2020-11-12T09:29:13.193788Z"
    }
   },
   "outputs": [],
   "source": [
    "import psyplot.project as psy\n",
    "import xarray as xr\n",
    "%matplotlib inline\n",
    "%config InlineBackend.close_figures = False\n",
    "import numpy as np"
   ]
  },
  {
   "cell_type": "markdown",
   "metadata": {},
   "source": [
    "First we create some sample data in the form of a 2D parabola"
   ]
  },
  {
   "cell_type": "code",
   "execution_count": 2,
   "metadata": {
    "collapsed": true,
    "execution": {
     "iopub.execute_input": "2020-11-12T09:29:13.200674Z",
     "iopub.status.busy": "2020-11-12T09:29:13.199422Z",
     "iopub.status.idle": "2020-11-12T09:29:13.203272Z",
     "shell.execute_reply": "2020-11-12T09:29:13.203658Z"
    }
   },
   "outputs": [],
   "source": [
    "x = np.linspace(-1, 1.)\n",
    "y = np.linspace(-1, 1.)\n",
    "x2d, y2d = np.meshgrid(x, y)\n",
    "z = - x2d**2 - y2d**2\n",
    "ds = xr.Dataset(\n",
    "    {'z': xr.Variable(('x', 'y'), z)},\n",
    "    {'x': xr.Variable(('x', ), x), 'y': xr.Variable(('y', ), y)})"
   ]
  },
  {
   "cell_type": "markdown",
   "metadata": {},
   "source": [
    "For a simple 2D plot of a scalar field, we can use the\n",
    "[plot2d](http://psyplot.readthedocs.io/projects/psy-simple/en/latest/generated/psyplot.project.plot.plot2d.html#psyplot.project.plot.plot2d) plot method:"
   ]
  },
  {
   "cell_type": "code",
   "execution_count": 3,
   "metadata": {
    "execution": {
     "iopub.execute_input": "2020-11-12T09:29:13.208325Z",
     "iopub.status.busy": "2020-11-12T09:29:13.207596Z",
     "iopub.status.idle": "2020-11-12T09:29:13.565159Z",
     "shell.execute_reply": "2020-11-12T09:29:13.564569Z"
    },
    "nbsphinx-thumbnail": {
     "tooltip": "Visualize simple 2D scalar fields"
    }
   },
   "outputs": [
    {
     "data": {
      "image/png": "[encoded data removed]",
      "text/plain": [
       "<Figure size 432x288 with 2 Axes>"
      ]
     },
     "metadata": {
      "needs_background": "light"
     },
     "output_type": "display_data"
    }
   ],
   "source": [
    "p = psy.plot.plot2d(ds, cmap='Reds', name='z')"
   ]
  },
  {
   "cell_type": "markdown",
   "metadata": {},
   "source": [
    "The ``plot`` formatoption controls, how the plot is made. The default is a \n",
    "[pcolormesh](http://matplotlib.org/api/pyplot_api.html#matplotlib.pyplot.pcolormesh) \n",
    "plot, but we can also make a \n",
    "[filled contour](http://matplotlib.org/api/pyplot_api.html#matplotlib.pyplot.contourf) \n",
    "plot. The levels of the contour plot are determined through the ``levels`` formatoption."
   ]
  },
  {
   "cell_type": "code",
   "execution_count": 4,
   "metadata": {
    "execution": {
     "iopub.execute_input": "2020-11-12T09:29:13.573976Z",
     "iopub.status.busy": "2020-11-12T09:29:13.572861Z",
     "iopub.status.idle": "2020-11-12T09:29:13.793364Z",
     "shell.execute_reply": "2020-11-12T09:29:13.792491Z"
    }
   },
   "outputs": [
    {
     "data": {
      "image/png": "[encoded data removed]",
      "text/plain": [
       "<Figure size 432x288 with 2 Axes>"
      ]
     },
     "metadata": {
      "needs_background": "light"
     },
     "output_type": "display_data"
    }
   ],
   "source": [
    "p.update(plot='contourf', levels=5)\n",
    "p.show()"
   ]
  },
  {
   "cell_type": "markdown",
   "metadata": {},
   "source": [
    "The ``plot2d`` method has several formatoptions controlling the color coding of your plot:"
   ]
  },
  {
   "cell_type": "code",
   "execution_count": 5,
   "metadata": {
    "execution": {
     "iopub.execute_input": "2020-11-12T09:29:13.799584Z",
     "iopub.status.busy": "2020-11-12T09:29:13.798915Z",
     "iopub.status.idle": "2020-11-12T09:29:13.801215Z",
     "shell.execute_reply": "2020-11-12T09:29:13.801674Z"
    }
   },
   "outputs": [
    {
     "name": "stdout",
     "output_type": "stream",
     "text": [
      "+-------------+-------------+-------------+-------------+\n",
      "| levels      | miss_color  | cmap        | bounds      |\n",
      "+-------------+-------------+-------------+-------------+\n",
      "| extend      | cbar        | cbarspacing | cticksize   |\n",
      "+-------------+-------------+-------------+-------------+\n",
      "| ctickweight | ctickprops  |             |             |\n",
      "+-------------+-------------+-------------+-------------+\n"
     ]
    }
   ],
   "source": [
    "p.keys('colors')"
   ]
  },
  {
   "cell_type": "markdown",
   "metadata": {},
   "source": [
    "The most important ones are\n",
    "\n",
    "- ``cbar``: To specify the location of the colorbar\n",
    "- ``bounds``: To specify the boundaries for the color coding, i.e.\n",
    "  the categories which data range belongs to which color\n",
    "- ``cmap``: To specify the colormap"
   ]
  },
  {
   "cell_type": "code",
   "execution_count": 6,
   "metadata": {
    "collapsed": true,
    "execution": {
     "iopub.execute_input": "2020-11-12T09:29:13.806360Z",
     "iopub.status.busy": "2020-11-12T09:29:13.805748Z",
     "iopub.status.idle": "2020-11-12T09:29:13.807915Z",
     "shell.execute_reply": "2020-11-12T09:29:13.808278Z"
    }
   },
   "outputs": [],
   "source": [
    "psy.close('all')"
   ]
  }
 ],
 "metadata": {
  "kernelspec": {
   "display_name": "Python 3",
   "language": "python",
   "name": "python3"
  },
  "language_info": {
   "codemirror_mode": {
    "name": "ipython",
    "version": 3
   },
   "file_extension": ".py",
   "mimetype": "text/x-python",
   "name": "python",
   "nbconvert_exporter": "python",
   "pygments_lexer": "ipython3",
   "version": "3.7.8"
  }
 },
 "nbformat": 4,
 "nbformat_minor": 2
}
